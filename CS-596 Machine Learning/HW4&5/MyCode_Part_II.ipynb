{
 "cells": [
  {
   "cell_type": "code",
   "execution_count": null,
   "metadata": {},
   "outputs": [],
   "source": [
    "\"%run -i \\\"D:\\\\Courses\\\\2019 Fall (Processing)\\\\CS-596 Machine Learning\\\\Assignments\\\\Assignment 3\\\\My Code\\\\main_part1.py\\\"\"\n"
   ]
  },
  {
   "cell_type": "code",
   "execution_count": null,
   "metadata": {},
   "outputs": [],
   "source": [
    "import importlib\n",
    "importlib.reload(my_FNN_Model)"
   ]
  },
  {
   "cell_type": "code",
   "execution_count": 8,
   "metadata": {},
   "outputs": [],
   "source": [
    "import numpy as np\n",
    "import matplotlib.pyplot as plt\n",
    "import sklearn.svm as svm\n",
    "from sklearn import metrics\n",
    "import util\n",
    "import download_data as dl\n",
    "\n",
    "from sklearn.model_selection import train_test_split\n",
    "\n",
    "\n"
   ]
  },
  {
   "cell_type": "markdown",
   "metadata": {},
   "source": [
    "# Part II\n"
   ]
  },
  {
   "cell_type": "markdown",
   "metadata": {},
   "source": [
    "#### Step 1 : Load Data"
   ]
  },
  {
   "cell_type": "code",
   "execution_count": 6,
   "metadata": {},
   "outputs": [],
   "source": [
    "## step 1: load data from csv file. \n",
    "data = dl.download_data('crab.csv').values\n",
    "\n",
    "n = 200\n",
    "#split data \n",
    "S = np.random.permutation(n)\n",
    "#100 training samples\n",
    "Xtr = data[S[:100], :6]\n",
    "Ytr = data[S[:100], 6:]\n",
    "# 100 testing samples\n",
    "X_test = data[S[100:], :6]\n",
    "Y_test = data[S[100:], 6:].ravel()\n"
   ]
  },
  {
   "cell_type": "markdown",
   "metadata": {},
   "source": [
    "#### Step 2: Randomly split"
   ]
  },
  {
   "cell_type": "code",
   "execution_count": 33,
   "metadata": {},
   "outputs": [],
   "source": [
    "## step 2 randomly split Xtr/Ytr into two even subsets: use one for training, another for validation.\n",
    "#############placeholder 1: training/validation #######################\n",
    "n2 = len(Xtr)\n",
    "S2 = np.random.permutation(n2)\n",
    "\n",
    "# subsets for training models\n",
    "x_train= Xtr[S2[:50]]\n",
    "y_train= Ytr[S2[50:]].ravel()\n",
    "# subsets for validation\n",
    "x_validation= Xtr[S2[:50]]\n",
    "y_validation= Ytr[S2[50:]].ravel()\n",
    "############placeholder end #######################"
   ]
  },
  {
   "cell_type": "markdown",
   "metadata": {},
   "source": [
    "#### Step 3.1 Plot the validation errors while using different values of C"
   ]
  },
  {
   "cell_type": "code",
   "execution_count": 53,
   "metadata": {},
   "outputs": [
    {
     "data": {
      "image/png": "[encoded data removed]",
      "text/plain": [
       "<Figure size 432x288 with 1 Axes>"
      ]
     },
     "metadata": {
      "needs_background": "light"
     },
     "output_type": "display_data"
    }
   ],
   "source": [
    "# 3.1 Plot the validation errors while using different values of C ( with other hyperparameters fixed) \n",
    "#  keeping kernel = \"linear\"\n",
    "#############placeholder 2: Figure 1#######################\n",
    "c_range =  range(1,11)\n",
    "# c_range =  np.array(range(1,15))/10\n",
    "svm_c_error = []\n",
    "for c_value in c_range:\n",
    "    model = svm.SVC(kernel='linear', C=c_value)\n",
    "    model.fit(X=x_train, y=y_train)\n",
    "    error = 1. - model.score(x_validation, y_validation)\n",
    "    svm_c_error.append(error)\n",
    "plt.plot(c_range, svm_c_error)\n",
    "plt.title('Linear SVM')\n",
    "plt.xlabel('c values')\n",
    "plt.ylabel('error')\n",
    "plt.xticks(c_range)\n",
    "plt.show()\n",
    "#############placeholder end #######################\n"
   ]
  },
  {
   "cell_type": "code",
   "execution_count": null,
   "metadata": {},
   "outputs": [],
   "source": [
    "#### Step 3.2 Plot the validation errors while using linear, RBF kernel, or Polynomial kernel"
   ]
  },
  {
   "cell_type": "code",
   "execution_count": 58,
   "metadata": {},
   "outputs": [
    {
     "data": {
      "image/png": "[encoded data removed]",
      "text/plain": [
       "<Figure size 432x288 with 1 Axes>"
      ]
     },
     "metadata": {
      "needs_background": "light"
     },
     "output_type": "display_data"
    }
   ],
   "source": [
    "# 3.2 Plot the validation errors while using linear, RBF kernel, or Polynomial kernel ( with other hyperparameters fixed) \n",
    "#############placeholder 3: Figure 2#######################\n",
    "kernel_types = ['linear', 'poly', 'rbf']\n",
    "svm_kernel_error = []\n",
    "c_value = 8\n",
    "for kernel_value in kernel_types:\n",
    "    # your own codes\n",
    "    model = svm.SVC(kernel=kernel_value, C=c_value,gamma='scale')\n",
    "    model.fit(X=x_train, y=y_train)\n",
    "    error = 1. - model.score(x_validation, y_validation)\n",
    "    svm_kernel_error.append(error)\n",
    "\n",
    "plt.plot(kernel_types, svm_kernel_error)\n",
    "plt.title('SVM by Kernels')\n",
    "plt.xlabel('Kernel')\n",
    "plt.ylabel('error')\n",
    "plt.xticks(kernel_types)\n",
    "plt.show()\n",
    "#############placeholder end #######################"
   ]
  },
  {
   "cell_type": "markdown",
   "metadata": {},
   "source": [
    "# Temporary Code"
   ]
  },
  {
   "cell_type": "code",
   "execution_count": 46,
   "metadata": {},
   "outputs": [
    {
     "data": {
      "text/plain": [
       "array([0. , 0.1, 0.2, 0.3, 0.4, 0.5, 0.6, 0.7, 0.8, 0.9])"
      ]
     },
     "execution_count": 46,
     "metadata": {},
     "output_type": "execute_result"
    }
   ],
   "source": [
    "# x_train\n",
    "np.array(range(10))/10"
   ]
  },
  {
   "cell_type": "code",
   "execution_count": null,
   "metadata": {},
   "outputs": [],
   "source": [
    "\n",
    "\n",
    "## step 1: load data from csv file. \n",
    "data = dl.download_data('crab.csv').values\n",
    "\n",
    "n = 200\n",
    "#split data \n",
    "S = np.random.permutation(n)\n",
    "#100 training samples\n",
    "Xtr = data[S[:100], :6]\n",
    "Ytr = data[S[:100], 6:]\n",
    "# 100 testing samples\n",
    "X_test = data[S[100:], :6]\n",
    "Y_test = data[S[100:], 6:].ravel()\n",
    "\n",
    "## step 2 randomly split Xtr/Ytr into two even subsets: use one for training, another for validation.\n",
    "#############placeholder 1: training/validation #######################\n",
    "n2 = len(Xtr)\n",
    "S2 = np.random.permutation(n2)\n",
    " \n",
    "# subsets for training models\n",
    "x_train= \n",
    "y_train= \n",
    "# subsets for validation\n",
    "x_validation= \n",
    "y_validation= \n",
    "#############placeholder end #######################\n",
    "\n",
    "## step 3 Model selection over validation set\n",
    "# consider the parameters C, kernel types (linear, RBF etc.) and kernel\n",
    "# parameters if applicable. \n",
    "\n",
    "\n",
    "# 3.1 Plot the validation errors while using different values of C ( with other hyperparameters fixed) \n",
    "#  keeping kernel = \"linear\"\n",
    "#############placeholder 2: Figure 1#######################\n",
    "c_range =  #\n",
    "svm_c_error = []\n",
    "for c_value in c_range:\n",
    "    model = svm.SVC(kernel='linear', C=c_value)\n",
    "    model.fit(X=x_train, y=y_train)\n",
    "    error = 1. - model.score(x_validation, y_validation)\n",
    "    svm_c_error.append(error)\n",
    "plt.plot(c_range, svm_c_error)\n",
    "plt.title('Linear SVM')\n",
    "plt.xlabel('c values')\n",
    "plt.ylabel('error')\n",
    "#plt.xticks(c_range)\n",
    "plt.show()\n",
    "#############placeholder end #######################\n",
    "\n",
    "\n",
    "# 3.2 Plot the validation errors while using linear, RBF kernel, or Polynomial kernel ( with other hyperparameters fixed) \n",
    "#############placeholder 3: Figure 2#######################\n",
    "kernel_types = ['linear', 'poly', 'rbf']\n",
    "svm_kernel_error = []\n",
    "for kernel_value in kernel_types:\n",
    "    # your own codes\n",
    "\n",
    "    error =  \n",
    "    svm_kernel_error.append(error)\n",
    "\n",
    "plt.plot(kernel_types, svm_kernel_error)\n",
    "plt.title('SVM by Kernels')\n",
    "plt.xlabel('Kernel')\n",
    "plt.ylabel('error')\n",
    "plt.xticks(kernel_types)\n",
    "plt.show()\n",
    "#############placeholder end #######################\n",
    "\n",
    "\n",
    "## step 4 Select the best model and apply it over the testing subset \n",
    "#############placeholder 4:testing  #######################\n",
    "\n",
    "best_kernel = 'poly'\n",
    "best_c = 1 # poly had many that were the \"best\"\n",
    "model = svm.SVC(kernel=best_kernel, C=best_c)\n",
    "model.fit(X=x_train, y=y_train)\n",
    "\n",
    "#############placeholder end #######################\n",
    "\n",
    "\n",
    "## step 5 evaluate your results in terms of accuracy, real, or precision. \n",
    "\n",
    "#############placeholder 5: metrics #######################\n",
    "# func_confusion_matrix is not included\n",
    "# You might re-use this function for the Part I. \n",
    "y_pred = model.predict(X_test)\n",
    "conf_matrix, accuracy, recall_array, precision_array = func_confusion_matrix(Y_test, y_pred)\n",
    "\n",
    "print(\"Confusion Matrix: \")\n",
    "print(conf_matrix)\n",
    "print(\"Average Accuracy: {}\".format(accuracy))\n",
    "print(\"Per-Class Precision: {}\".format(precision_array))\n",
    "print(\"Per-Class Recall: {}\".format(recall_array))\n",
    "\n",
    "#############placeholder end #######################\n",
    "\n",
    "#############placeholder 6: success and failure examples #######################\n",
    "# Success samples: samples for which you model can correctly predict their labels\n",
    "# Failure samples: samples for which you model can not correctly predict their labels\n",
    "\n",
    "#############placeholder end #######################\n",
    "\n",
    "\n",
    "\n"
   ]
  }
 ],
 "metadata": {
  "kernelspec": {
   "display_name": "Python 3",
   "language": "python",
   "name": "python3"
  },
  "language_info": {
   "codemirror_mode": {
    "name": "ipython",
    "version": 3
   },
   "file_extension": ".py",
   "mimetype": "text/x-python",
   "name": "python",
   "nbconvert_exporter": "python",
   "pygments_lexer": "ipython3",
   "version": "3.7.5"
  }
 },
 "nbformat": 4,
 "nbformat_minor": 4
}
