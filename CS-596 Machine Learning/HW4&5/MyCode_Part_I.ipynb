{
 "cells": [
  {
   "cell_type": "code",
   "execution_count": null,
   "metadata": {},
   "outputs": [],
   "source": [
    "\"%run -i \\\"D:\\\\Courses\\\\2019 Fall (Processing)\\\\CS-596 Machine Learning\\\\Assignments\\\\Assignment 3\\\\My Code\\\\main_part1.py\\\"\"\n"
   ]
  },
  {
   "cell_type": "code",
   "execution_count": 6,
   "metadata": {},
   "outputs": [
    {
     "data": {
      "text/plain": [
       "<module 'my_FNN_Model' from 'D:\\\\Courses\\\\2019 Fall (Processing)\\\\CS-596 Machine Learning\\\\Assignments\\\\Assignment4&5\\\\MyCode\\\\my_FNN_Model.py'>"
      ]
     },
     "execution_count": 6,
     "metadata": {},
     "output_type": "execute_result"
    }
   ],
   "source": [
    "import importlib\n",
    "importlib.reload(my_FNN_Model)"
   ]
  },
  {
   "cell_type": "code",
   "execution_count": 1,
   "metadata": {},
   "outputs": [
    {
     "name": "stderr",
     "output_type": "stream",
     "text": [
      "Using TensorFlow backend.\n"
     ]
    }
   ],
   "source": [
    "import numpy as np\n",
    "import scipy\n",
    "import matplotlib.pyplot as plt\n",
    "from keras.datasets import mnist\n",
    "from sklearn.model_selection import train_test_split\n",
    "import time\n",
    "# import tensorflow.compat.v1 as tf\n",
    "from sklearn import preprocessing\n",
    "\n",
    "import util\n",
    "import my_FNN_Model\n",
    "\n",
    "import matplotlib.pyplot as plt\n",
    "from PIL import Image"
   ]
  },
  {
   "cell_type": "markdown",
   "metadata": {},
   "source": [
    "# Part I"
   ]
  },
  {
   "cell_type": "markdown",
   "metadata": {},
   "source": [
    "## Using FNN Model"
   ]
  },
  {
   "cell_type": "code",
   "execution_count": 2,
   "metadata": {},
   "outputs": [],
   "source": [
    "def import_data_training():\n",
    "    # load (downloaded if needed) the MNIST dataset\n",
    "    (x_train, y_train), (x_test, y_test) = mnist.load_data()\n",
    "    # transform each image from 28 by28 to a 784 pixel vector\n",
    "    pixel_count = x_train.shape[1] * x_train.shape[2]\n",
    "    x_train = x_train.reshape(x_train.shape[0], pixel_count).astype('float32')\n",
    "    # normalize inputs from gray scale of 0-255 to values between 0-1\n",
    "    x_train = x_train / 255\n",
    "    x_train, x_test, y_train, y_test = train_test_split(x_train, y_train, test_size=10000, random_state=34)\n",
    "    \n",
    "    #Convert Labels to One hot\n",
    "    le = preprocessing.LabelEncoder()\n",
    "    int_encoded = le.fit_transform(y_train)\n",
    "    oe = preprocessing.OneHotEncoder(categories='auto')\n",
    "    oe.fit(int_encoded.reshape(len(int_encoded), 1))\n",
    "    y_train = oe.transform(y_train.reshape(len(y_train),1)).toarray()\n",
    "    y_test = oe.transform(y_test.reshape(len(y_test),1)).toarray()\n",
    "\n",
    "    return x_train, y_train, x_test, y_test, oe\n",
    "\n",
    "def write_to_log(FNN, t):\n",
    "    FNN.train_writer.add_summary(FNN.summary,t)"
   ]
  },
  {
   "cell_type": "markdown",
   "metadata": {},
   "source": [
    "#### Load Data"
   ]
  },
  {
   "cell_type": "code",
   "execution_count": 55,
   "metadata": {},
   "outputs": [],
   "source": [
    "x_train, y_train, x_test, y_test, oe  = import_data_training()"
   ]
  },
  {
   "cell_type": "markdown",
   "metadata": {},
   "source": [
    "#### Train a model"
   ]
  },
  {
   "cell_type": "code",
   "execution_count": 4,
   "metadata": {},
   "outputs": [
    {
     "name": "stdout",
     "output_type": "stream",
     "text": [
      "WARNING:tensorflow:From C:\\Users\\DELL\\.conda\\envs\\MyTensorFlow\\lib\\site-packages\\tensorflow_core\\python\\ops\\resource_variable_ops.py:1630: calling BaseResourceVariable.__init__ (from tensorflow.python.ops.resource_variable_ops) with constraint is deprecated and will be removed in a future version.\n",
      "Instructions for updating:\n",
      "If using Keras pass *_constraint arguments to layers.\n",
      "Epoch: 0  =====> Cost = 0.4723491078317165\n",
      "Epoch: 1  =====> Cost = 0.22114836426079248\n",
      "Epoch: 2  =====> Cost = 0.16613406105339515\n",
      "Epoch: 3  =====> Cost = 0.13493298032134765\n",
      "Epoch: 4  =====> Cost = 0.1135764225125312\n",
      "Epoch: 5  =====> Cost = 0.09741179250180726\n",
      "Epoch: 6  =====> Cost = 0.08447762292437254\n",
      "Epoch: 7  =====> Cost = 0.07386553455516695\n",
      "Epoch: 8  =====> Cost = 0.0648951812274754\n",
      "Epoch: 9  =====> Cost = 0.05714062559418381\n",
      "Epoch: 10  =====> Cost = 0.05046048135217276\n",
      "Epoch: 11  =====> Cost = 0.04460726846521723\n",
      "Epoch: 12  =====> Cost = 0.039435901597142185\n",
      "Epoch: 13  =====> Cost = 0.03488931827619672\n",
      "Epoch: 14  =====> Cost = 0.030904609950026526\n",
      "Epoch: 15  =====> Cost = 0.027357859155163165\n",
      "Epoch: 16  =====> Cost = 0.024203580216038963\n",
      "Epoch: 17  =====> Cost = 0.021486998920328935\n",
      "Epoch: 18  =====> Cost = 0.019089352817973096\n",
      "Epoch: 19  =====> Cost = 0.016928327654604815\n",
      "Accuracy is 0.9688\n"
     ]
    }
   ],
   "source": [
    "# training_epoch = 20\n",
    "training_epoch = 20\n",
    "# LEARNING_RATE =  0.001\n",
    "LEARNING_RATE =  0.1\n",
    "HIDDEN_LAYER_SIZE = 120\n",
    "# HIDDEN_LAYER_SIZE = 300\n",
    "HIDDEN_LAYER_NUM = 2\n",
    "# BATCH_SIZE = 400\n",
    "BATCH_SIZE = 100\n",
    "REGULARIZATION = 0.1\n",
    "IMAGE_PIXELS = 784\n",
    "CLASSES = 10\n",
    "\n",
    "network_params = {'LearningRate':LEARNING_RATE, 'reg':REGULARIZATION, 'HiddenLayerNum':\\\n",
    "                  HIDDEN_LAYER_NUM,'HiddenLayerSize': HIDDEN_LAYER_SIZE}\n",
    "\n",
    "FNN = my_FNN_Model.FNN_Model(CLASSES, IMAGE_PIXELS, network_params)\n",
    "\n",
    "for epoch in range(training_epoch):\n",
    "    avg_cost = 0\n",
    "    NumberOfInputs, _ = x_train.shape\n",
    "    total_batch = int(NumberOfInputs / BATCH_SIZE)\n",
    "\n",
    "    for i in range(total_batch):\n",
    "        Input_batch = x_train[i*BATCH_SIZE:(i+1)*BATCH_SIZE]\n",
    "        Output_batch = y_train[i*BATCH_SIZE:(i+1)*BATCH_SIZE]\n",
    "        cost = FNN.train_step(Input_batch,Output_batch)\n",
    "        avg_cost += cost/total_batch\n",
    "    print(\"Epoch: {}  =====> Cost = {}\".format(epoch, avg_cost))\n",
    "# test model\n",
    "predicted_output = FNN.predict(x_test, y_test)\n",
    "correct_prediction = np.equal(np.argmax(predicted_output,1), np.argmax(y_test,1))\n",
    "# print(correct_prediction)\n",
    "accuracy = np.sum(correct_prediction.astype(float))/np.size(correct_prediction)\n",
    "print('Accuracy is {}'.format(accuracy))"
   ]
  },
  {
   "cell_type": "code",
   "execution_count": null,
   "metadata": {},
   "outputs": [],
   "source": [
    "le = preprocessing.LabelEncoder()\n",
    "int_encoded = le.fit_transform(y_train)\n",
    "oe = preprocessing.OneHotEncoder(categories='auto')\n",
    "oe.fit(int_encoded.reshape(len(int_encoded), 1))\n",
    "y_train = oe.transform(y_train.reshape(len(y_train),1)).toarray()\n",
    "y_test = oe.transform(y_test.reshape(len(y_test),1)).toarray()"
   ]
  },
  {
   "cell_type": "code",
   "execution_count": 122,
   "metadata": {},
   "outputs": [],
   "source": [
    "y_test_label = [x[0] for x in oe.inverse_transform(y_test)]\n",
    "y_pred_label = [x[0] for x in oe.inverse_transform(predicted_output)]\n",
    "conf_matrix, accuracy, recall_array, precision_array = util.func_confusion_matrix(y_test_label,y_pred_label)"
   ]
  },
  {
   "cell_type": "code",
   "execution_count": 42,
   "metadata": {},
   "outputs": [],
   "source": [
    "np.savetxt(\"./conf.csv\",conf_matrix, fmt='%d',delimiter=',')\n",
    "\n",
    "np.savetxt(\"./Recall.csv\",recall_array, fmt='%.5f',delimiter=',')\n",
    "\n",
    "np.savetxt(\"./Precision.csv\",precision_array, fmt='%.5f',delimiter=',')\n"
   ]
  },
  {
   "cell_type": "markdown",
   "metadata": {},
   "source": [
    "### Visiualize Wrong Images"
   ]
  },
  {
   "cell_type": "code",
   "execution_count": 129,
   "metadata": {
    "scrolled": true
   },
   "outputs": [
    {
     "data": {
      "image/png": "[encoded data removed]",
      "text/plain": [
       "<Figure size 1440x720 with 10 Axes>"
      ]
     },
     "metadata": {
      "needs_background": "light"
     },
     "output_type": "display_data"
    }
   ],
   "source": [
    "wrong_img = np.not_equal(np.argmax(Estimated_output,1), np.argmax(y_test,1))\n",
    "wrong_img = np.where(wrong_img)[0]\n",
    "\n",
    "fig,ax = plt.subplots(2,5,figsize=(20,10))\n",
    "fig.subplots_adjust(hspace=0, wspace=0.05)\n",
    "for count in range(10):\n",
    "    img = np.copy(x_test[wrong_img[count]])\n",
    "    img = np.asarray(np.reshape(img,[28,28]))\n",
    "    img = (img * 255).astype(np.uint8)\n",
    "    img =Image.fromarray(img, 'L')\n",
    "    ax[count%2][count//2].imshow(img,cmap='gray')\n",
    "    ax[count%2][count//2].axis('off')\n",
    "    title = \"Pred: {} -- GT: {}\".format(y_pred_label[wrong_img[count]],y_test_label[wrong_img[count]])\n",
    "    ax[count%2][count//2].set_title(title,fontsize= 25)\n",
    "plt.show()"
   ]
  },
  {
   "cell_type": "markdown",
   "metadata": {},
   "source": [
    "# Temporary Code"
   ]
  },
  {
   "cell_type": "code",
   "execution_count": 121,
   "metadata": {},
   "outputs": [
    {
     "data": {
      "text/plain": [
       "array([-2.5520625, -2.8161325,  2.1710415, -1.1229757, -4.6416435,\n",
       "        4.2943754, 15.715489 , -9.9012785,  3.8475738, -6.125631 ],\n",
       "      dtype=float32)"
      ]
     },
     "execution_count": 121,
     "metadata": {},
     "output_type": "execute_result"
    }
   ],
   "source": [
    "# (x_look,y_look), (_,_) = mnist.load_data()\n",
    "# _, x_look, _, y_look = train_test_split(x_look, y_look, test_size=10000, random_state=34)\n",
    "\n",
    "# # arr = np.asarray(x_look[0].reshape(28,28))\n",
    "# # arr = x_look[10]*255\n",
    "# arr = x_look[0]\n",
    "# plt.imshow(arr, cmap='gray', vmin=0, vmax=255)\n",
    "# y_look[0]\n",
    "\n",
    "\n",
    "predicted_output[0]"
   ]
  }
 ],
 "metadata": {
  "kernelspec": {
   "display_name": "Python 3",
   "language": "python",
   "name": "python3"
  },
  "language_info": {
   "codemirror_mode": {
    "name": "ipython",
    "version": 3
   },
   "file_extension": ".py",
   "mimetype": "text/x-python",
   "name": "python",
   "nbconvert_exporter": "python",
   "pygments_lexer": "ipython3",
   "version": "3.7.5"
  }
 },
 "nbformat": 4,
 "nbformat_minor": 4
}
