{
 "cells": [
  {
   "cell_type": "markdown",
   "metadata": {},
   "source": [
    "## Using multi features to build annual income classification model."
   ]
  },
  {
   "cell_type": "code",
   "execution_count": null,
   "metadata": {},
   "outputs": [],
   "source": []
  },
  {
   "cell_type": "markdown",
   "metadata": {},
   "source": [
    "SVM KNN"
   ]
  },
  {
   "cell_type": "code",
   "execution_count": null,
   "metadata": {},
   "outputs": [],
   "source": [
    "import pandas as pd\n",
    "from sklearn import preprocessing\n"
   ]
  },
  {
   "cell_type": "code",
   "execution_count": null,
   "metadata": {},
   "outputs": [],
   "source": [
    "raw_data = pd.read_csv('./Dataset/adult.data.txt',sep=',',header=None)\n",
    "\n",
    "col_name = ['age', 'workclass', 'fnlwgt', 'education', 'education-num', 'marital-status', 'occupation', 'relationship' \\\n",
    "           , 'race', 'sex', 'capital-gain', 'capital-loss', 'hours-per-week', 'native-country','annual-income']\n",
    "raw_data.columns=col_name\n",
    "\n",
    "# age\n",
    "# workclass\n",
    "# fnlwgt\n",
    "# education\n",
    "# education-num\n",
    "# marital-status\n",
    "# occupation\n",
    "# relationship\n",
    "# race\n",
    "# sex\n",
    "# capital-gain\n",
    "# capital-loss\n",
    "# hours-per-week\n",
    "# native-country\n",
    "\n",
    "\n",
    "# Label to integer\n"
   ]
  },
  {
   "cell_type": "markdown",
   "metadata": {},
   "source": [
    "#### Label to integer"
   ]
  },
  {
   "cell_type": "markdown",
   "metadata": {},
   "source": [
    "<=50K : 0\n",
    "> 50K : 1\n"
   ]
  },
  {
   "cell_type": "code",
   "execution_count": null,
   "metadata": {},
   "outputs": [],
   "source": [
    "dataset = raw_data.copy()\n",
    "# dataset.loc[dataset['annual-income'].str.replace(' ','')=='<=50K', 'annual-income'] = 0\n",
    "# dataset.loc[dataset['annual-income'].str.replace(' ','')=='>50K', 'annual-income'] = 1\n",
    "# dataset"
   ]
  },
  {
   "cell_type": "code",
   "execution_count": null,
   "metadata": {},
   "outputs": [],
   "source": [
    "wc_le = preprocessing.LabelEncoder()\n",
    "edu_le = preprocessing.LabelEncoder()\n",
    "ms_le = preprocessing.LabelEncoder()\n",
    "occ_le = preprocessing.LabelEncoder()\n",
    "rr_le = preprocessing.LabelEncoder()\n",
    "race_le = preprocessing.LabelEncoder()\n",
    "sex_le = preprocessing.LabelEncoder()\n",
    "country_le = preprocessing.LabelEncoder()\n",
    "ai_le = preprocessing.LabelEncoder()"
   ]
  },
  {
   "cell_type": "code",
   "execution_count": null,
   "metadata": {},
   "outputs": [],
   "source": [
    "# col_name = ['age', 'workclass', 'fnlwgt', 'education', 'education-num', 'marital-status', 'occupation', 'relationship' \\\n",
    "#            , 'race', 'sex', 'capital-gain', 'capital-loss', 'hours-per-week', 'native-country','annual-income']\n",
    "\n",
    "wc_label = dataset['workclass'].unique()\n",
    "edu_label = dataset['education'].unique()\n",
    "ms_label = dataset['marital-status'].unique()\n",
    "occ_label = dataset['occupation'].unique()\n",
    "rr_label = dataset['relationship'].unique()\n",
    "race_label = dataset['race'].unique()\n",
    "sex_label = dataset['sex'].unique()\n",
    "country_label = dataset['native-country'].unique()\n",
    "ai_label = dataset['annual-income'].unique()\n",
    "\n",
    "wc_le = preprocessing.LabelEncoder()\n",
    "edu_le = preprocessing.LabelEncoder()\n",
    "ms_le = preprocessing.LabelEncoder()\n",
    "occ_le = preprocessing.LabelEncoder()\n",
    "rr_le = preprocessing.LabelEncoder()\n",
    "race_le = preprocessing.LabelEncoder()\n",
    "sex_le = preprocessing.LabelEncoder()\n",
    "country_le = preprocessing.LabelEncoder()\n",
    "ai_le = preprocessing.LabelEncoder()\n",
    "\n",
    "wc_le.fit(wc_label)\n",
    "edu_le.fit(edu_label)\n",
    "ms_le.fit(ms_label)\n",
    "occ_le.fit(occ_label)\n",
    "rr_le.fit(rr_label)\n",
    "race_le.fit(race_label)\n",
    "sex_le.fit(sex_label)\n",
    "country_le.fit(country_label)\n",
    "ai_le.fit(ai_label)"
   ]
  },
  {
   "cell_type": "code",
   "execution_count": null,
   "metadata": {},
   "outputs": [],
   "source": [
    "dataset['workclass'] = wc_le.transform(dataset['workclass']) \n",
    "dataset['education'] = edu_le.transform(dataset['education']) \n",
    "dataset['marital-status'] = ms_le.transform(dataset['marital-status']) \n",
    "dataset['occupation'] = occ_le.transform(dataset['occupation']) \n",
    "dataset['relationship'] = rr_le.transform(dataset['relationship']) \n",
    "dataset['race'] = race_le.transform(dataset['race']) \n",
    "dataset['sex'] = sex_le.transform(dataset['sex']) \n",
    "dataset['native-country'] = country_le.transform(dataset['native-country']) \n",
    "dataset['annual-income'] = ai_le.transform(dataset['annual-income']) \n",
    "\n",
    "dataset\n",
    "\n",
    "# wc_label = dataset['workclass'].unique()\n",
    "# edu_label = dataset['education'].unique()\n",
    "# ms_label = dataset['marital-status'].unique()\n",
    "# occ_label = dataset['occupation'].unique()\n",
    "# rr_label = dataset['relationship'].unique()\n",
    "# race_label = dataset['race'].unique()\n",
    "# sex_label = dataset['sex'].unique()\n",
    "# country_label = dataset['native-country'].unique()\n",
    "# ai_label = dataset['annual-income'].unique()"
   ]
  }
 ],
 "metadata": {
  "kernelspec": {
   "display_name": "Python 3",
   "language": "python",
   "name": "python3"
  },
  "language_info": {
   "codemirror_mode": {
    "name": "ipython",
    "version": 3
   },
   "file_extension": ".py",
   "mimetype": "text/x-python",
   "name": "python",
   "nbconvert_exporter": "python",
   "pygments_lexer": "ipython3",
   "version": "3.7.5"
  }
 },
 "nbformat": 4,
 "nbformat_minor": 2
}
