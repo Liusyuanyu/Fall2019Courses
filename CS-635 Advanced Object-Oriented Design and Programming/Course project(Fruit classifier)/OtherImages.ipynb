{
 "cells": [
  {
   "cell_type": "code",
   "execution_count": 1,
   "metadata": {},
   "outputs": [
    {
     "name": "stderr",
     "output_type": "stream",
     "text": [
      "Using TensorFlow backend.\n"
     ]
    }
   ],
   "source": [
    "from keras.applications.inception_v3 import InceptionV3\n",
    "from keras.models import Model\n",
    "from keras.layers import Dense, GlobalAveragePooling2D, Input, Dropout\n",
    "from os import listdir\n",
    "from os.path import isfile, join\n",
    "from keras.preprocessing.image import img_to_array, load_img\n",
    "from sklearn.model_selection import train_test_split\n",
    "from sklearn.preprocessing import OneHotEncoder, LabelEncoder\n",
    "import numpy as np\n",
    "import keras.backend as k\n",
    "from keras.optimizers import RMSprop \n",
    "import matplotlib.pyplot as plt"
   ]
  },
  {
   "cell_type": "markdown",
   "metadata": {},
   "source": [
    "## Load data"
   ]
  },
  {
   "cell_type": "code",
   "execution_count": 2,
   "metadata": {},
   "outputs": [],
   "source": [
    "car_x=[]\n",
    "car_y=[]\n",
    "\n",
    "# path = './Cars/BMWImages'\n",
    "# path = './Cars/BMWImages'\n",
    "# path = './Cars/BMWImages'\n",
    "path = '.\\\\Cars\\\\BMWImages_30'\n",
    "\n",
    "labels = listdir(path)\n",
    "\n",
    "for labelName in labels:\n",
    "    file_path = join(path,labelName)\n",
    "    image_names = listdir(file_path)\n",
    "    for aimage in image_names:\n",
    "        image_path = join(file_path,aimage)\n",
    "        train_image = load_img(image_path)  # RGB Image\n",
    "        train_image = img_to_array(train_image)  # this is a Numpy array with shape (3, 150, 150)\n",
    "        car_x.append(train_image)\n",
    "        car_y.append(labelName)\n",
    "        \n",
    "car_x_ori= car_x.copy()\n",
    "car_y_ori= car_y.copy()"
   ]
  },
  {
   "cell_type": "code",
   "execution_count": 3,
   "metadata": {},
   "outputs": [
    {
     "data": {
      "text/plain": [
       "1229"
      ]
     },
     "execution_count": 3,
     "metadata": {},
     "output_type": "execute_result"
    }
   ],
   "source": [
    "len(car_x_ori)"
   ]
  },
  {
   "cell_type": "markdown",
   "metadata": {},
   "source": [
    "### Data preprocessing"
   ]
  },
  {
   "cell_type": "code",
   "execution_count": 4,
   "metadata": {},
   "outputs": [],
   "source": [
    "car_x= car_x_ori\n",
    "car_y= car_y_ori\n",
    "\n",
    "# integer encode\n",
    "label_encoder = LabelEncoder()\n",
    "integer_encoded = label_encoder.fit_transform(car_y)\n",
    "onehot_encoder = OneHotEncoder(sparse=False,categories='auto')\n",
    "integer_encoded = integer_encoded.reshape(len(integer_encoded), 1)\n",
    "car_y = onehot_encoder.fit_transform(integer_encoded)\n",
    "\n",
    "num_class = len(labels)\n",
    "input_shape = car_x[0].shape\n",
    "\n",
    "# X_train, X_test, Y_train, Y_test = train_test_split(car_x, car_y, test_size=0.2,shuffle = True,random_state=1)\n",
    "car_x = np.asarray(car_x)\n",
    "car_x = car_x.astype('float32')\n",
    "car_x /= 255\n",
    "\n",
    "\n",
    "X_train, X_test, Y_train, Y_test = train_test_split(car_x, car_y, test_size=0.2,shuffle = True)"
   ]
  },
  {
   "cell_type": "markdown",
   "metadata": {},
   "source": [
    "## Inception V3 Model"
   ]
  },
  {
   "cell_type": "code",
   "execution_count": 5,
   "metadata": {},
   "outputs": [],
   "source": [
    "def build_model(nb_classes, inputs_shape):\n",
    "    k.clear_session()\n",
    "    base_model = InceptionV3(weights='imagenet', include_top=False,input_shape=inputs_shape)\n",
    "    \n",
    "    # add a global spatial average pooling layer\n",
    "    x = base_model.output\n",
    "    x = GlobalAveragePooling2D()(x)\n",
    "    x = Dense(1024, activation='relu')(x)\n",
    "    x = Dropout(0.5)(x)\n",
    "#     x = Dropout(0.5)(x)\n",
    "    predictions = Dense(nb_classes, activation='softmax')(x)\n",
    "#     predictions = Dropout(0.5)(predictions)\n",
    "\n",
    "    # first: train only the top layers (which were randomly initialized)\n",
    "    # i.e. freeze all convolutional InceptionV3 layers\n",
    "#     for layer in base_model.layers:\n",
    "#         layer.trainable = False\n",
    "    \n",
    "#     for index in range(-1,-4,-1):\n",
    "#         base_model.layers[index] = True\n",
    "    for layer in base_model.layers[:249]:\n",
    "        layer.trainable = False\n",
    "    for layer in base_model.layers[249:]:\n",
    "        layer.trainable = True\n",
    "    count = 0\n",
    "    for layer in base_model.layers:\n",
    "        if ('batch_normalizatio' in layer.name):\n",
    "            count +=1\n",
    "            layer.trainable =True\n",
    "            if(count>=19):\n",
    "                break\n",
    "\n",
    "    # this is the model we will train\n",
    "    model = Model(inputs=base_model.input, outputs=predictions)\n",
    "\n",
    "    return model\n",
    "\n",
    "def compile(model,learn_rate):\n",
    "    model.compile(optimizer=RMSprop(lr=learn_rate), loss='categorical_crossentropy', metrics=[\"accuracy\"])\n",
    "#     model.compile(optimizer=RMSprop(lr=0.0001), loss='categorical_crossentropy', metrics=[\"accuracy\"])\n",
    "#     model.compile(optimizer='rmsprop', loss='categorical_crossentropy', metrics=[\"accuracy\"])"
   ]
  },
  {
   "cell_type": "markdown",
   "metadata": {},
   "source": [
    "### Train and evaluate"
   ]
  },
  {
   "cell_type": "code",
   "execution_count": 6,
   "metadata": {},
   "outputs": [],
   "source": [
    "model = build_model(num_class, input_shape)\n",
    "compile(model,0.0005)\n",
    "\n",
    "# model.summary()\n",
    "\n",
    "# for layer in model.non_trainable_weights:\n",
    "#     print(layer.name)\n",
    "\n",
    "# for layer in model.trainable_weights:\n",
    "#     print(layer.name)"
   ]
  },
  {
   "cell_type": "code",
   "execution_count": 7,
   "metadata": {},
   "outputs": [
    {
     "data": {
      "text/plain": [
       "59"
      ]
     },
     "execution_count": 7,
     "metadata": {},
     "output_type": "execute_result"
    }
   ],
   "source": [
    "# len(model.layers)\n",
    "len(model.trainable_weights)\n",
    "\n",
    "\n",
    "# for layer in model.layers[:249]:\n",
    "#     layer.trainable = False\n",
    "# for layer in model.layers[249:]:\n",
    "#     layer.trainable = True\n",
    "# for layer in model.trainable_weights:\n",
    "#     print(layer.name)\n",
    "\n",
    "# for layer in model.layers[10:]:\n",
    "#     if ('batch_normalizatio' in layer.name):\n",
    "#         layer.trainable =True\n",
    "# for layer in model.trainable_weights:\n",
    "#     print(layer.name)\n"
   ]
  },
  {
   "cell_type": "code",
   "execution_count": 8,
   "metadata": {},
   "outputs": [
    {
     "name": "stdout",
     "output_type": "stream",
     "text": [
      "Epoch 1/10\n",
      "983/983 [==============================] - 355s 361ms/step - loss: 3.5265 - accuracy: 0.0814\n",
      "Epoch 2/10\n",
      "983/983 [==============================] - 291s 296ms/step - loss: 2.2501 - accuracy: 0.3845\n",
      "Epoch 3/10\n",
      "983/983 [==============================] - 290s 295ms/step - loss: 0.6859 - accuracy: 0.8525\n",
      "Epoch 4/10\n",
      "983/983 [==============================] - 290s 295ms/step - loss: 0.1185 - accuracy: 0.9868\n",
      "Epoch 5/10\n",
      "983/983 [==============================] - 291s 296ms/step - loss: 0.0420 - accuracy: 0.9959\n",
      "Epoch 6/10\n",
      "983/983 [==============================] - 295s 301ms/step - loss: 0.0204 - accuracy: 0.9980\n",
      "Epoch 7/10\n",
      "983/983 [==============================] - 291s 296ms/step - loss: 0.0331 - accuracy: 0.9939\n",
      "Epoch 8/10\n",
      "983/983 [==============================] - 291s 296ms/step - loss: 0.0345 - accuracy: 0.9939\n",
      "Epoch 9/10\n",
      "983/983 [==============================] - 290s 295ms/step - loss: 0.1197 - accuracy: 0.9705\n",
      "Epoch 10/10\n",
      "983/983 [==============================] - 290s 295ms/step - loss: 0.0608 - accuracy: 0.9878\n"
     ]
    }
   ],
   "source": [
    "epochs = 10\n",
    "# epochs = 30\n",
    "# batch_size = 20\n",
    "# batch_size = 200\n",
    "batch_size = 100\n",
    "\n",
    "history=model.fit(X_train, Y_train, batch_size=batch_size, epochs=epochs)\n",
    "\n",
    "\n",
    "# history=model.fit(X_train, Y_train,\n",
    "#           batch_size=batch_size,\n",
    "#           epochs=epochs,\n",
    "#           verbose=1,\n",
    "#           validation_data=(X_test, Y_test))\n",
    "# score = model.evaluate(X_test, Y_test, verbose=0)\n",
    "# print('Test loss:', score[0])\n",
    "# print('Test accuracy:', score[1])"
   ]
  },
  {
   "cell_type": "code",
   "execution_count": null,
   "metadata": {},
   "outputs": [],
   "source": [
    "print(history.history.keys())\n",
    "\n",
    "\n",
    "plt.plot(history.history['loss'])\n",
    "plt.title('Loss')\n",
    "plt.ylabel('Loss')\n",
    "plt.xlabel('epoch')\n",
    "plt.show()\n",
    "\n",
    "plt.plot(history.history['accuracy'])\n",
    "plt.title('accuracy')\n",
    "plt.ylabel('accuracy')\n",
    "plt.xlabel('epoch')\n",
    "plt.show()\n",
    "\n",
    "\n",
    "# plt.plot(history.history['accuracy'])\n",
    "# plt.plot(history.history['val_accuracy'])\n",
    "# plt.title('model accuracy')\n",
    "# plt.ylabel('accuracy')\n",
    "# plt.xlabel('epoch')\n",
    "# plt.legend(['train', 'test'], loc='upper left')\n",
    "# # plt.show()"
   ]
  },
  {
   "cell_type": "code",
   "execution_count": 9,
   "metadata": {},
   "outputs": [
    {
     "name": "stdout",
     "output_type": "stream",
     "text": [
      "Test loss: 10.888925606642312\n",
      "Test accuracy: 0.1463414579629898\n"
     ]
    }
   ],
   "source": [
    "score = model.evaluate(X_test, Y_test, verbose=0)\n",
    "# score = model.evaluate(X_train, Y_train, verbose=0)\n",
    "print('Test loss:', score[0])\n",
    "print('Test accuracy:', score[1])"
   ]
  },
  {
   "cell_type": "code",
   "execution_count": 10,
   "metadata": {},
   "outputs": [],
   "source": [
    "model.save('./ModelBox/car_30Class_54.h5')\n"
   ]
  },
  {
   "cell_type": "code",
   "execution_count": null,
   "metadata": {},
   "outputs": [],
   "source": [
    "# model.evaluate(X_train[0:10], Y_train[0:10], verbose=0)\n",
    "# model.predict(X_train[1], Y_train[1], verbose=0)\n",
    "# np.expand_dims(X_train[1], axis=3)\n",
    "\n",
    "\n",
    "# model.evaluate(X_train[0:100], Y_train[0:100], verbose=0)\n",
    "# model.evaluate(X_test[0:10], Y_test[0:10], verbose=0)\n",
    "model.evaluate(X_train, Y_train, verbose=0)\n"
   ]
  },
  {
   "cell_type": "markdown",
   "metadata": {},
   "source": [
    "## Resize Image"
   ]
  },
  {
   "cell_type": "code",
   "execution_count": 3,
   "metadata": {},
   "outputs": [],
   "source": [
    "from PIL import Image, ImageOps\n",
    "import os\n",
    "import shutil\n",
    "from IPython.display import display # to display images\n",
    "\n",
    "import pandas as pd\n",
    "\n",
    "# original_image = Image.open(\"path/to/image\")\n",
    "# size = (512, 512)\n",
    "# fit_and_resized_image = ImageOps.fit(original_image, size, Image.ANTIALIAS)"
   ]
  },
  {
   "cell_type": "code",
   "execution_count": 23,
   "metadata": {},
   "outputs": [],
   "source": [
    "# delta_w = desired_size - new_size[0]\n",
    "# delta_h = desired_size - new_size[1]\n",
    "# padding = (delta_w//2, delta_h//2, delta_w-(delta_w//2), delta_h-(elta_h//2))\n",
    "# new_im = ImageOps.expand(im, padding)\n",
    "\n",
    "# new_im.show()\n",
    "car_path = './Cars'\n",
    "car_class = pd.read_csv(os.path.join(car_path,'car_train_class.csv'))\n",
    "# car_class.head()\n",
    "class_50 = car_class.sort_values(by=['class'])\n",
    "\n",
    "class_50 = class_50.reset_index()"
   ]
  },
  {
   "cell_type": "code",
   "execution_count": null,
   "metadata": {},
   "outputs": [],
   "source": [
    "class_50.loc[class_50['class']==1]"
   ]
  },
  {
   "cell_type": "code",
   "execution_count": 47,
   "metadata": {},
   "outputs": [],
   "source": [
    "count = 1\n",
    "size=[200,200]\n",
    "path = './Cars/cars_train'\n",
    "smallPath = './Cars/BMWImages_30'\n",
    "for class_num in range(1,31):\n",
    "    tmp_df = class_50.loc[class_50['class']==class_num]\n",
    "    tmp_path = os.path.join(smallPath,str(class_num-1))\n",
    "    if(not os.path.exists( tmp_path)):\n",
    "        os.mkdir(tmp_path)\n",
    "    \n",
    "    for index, row in tmp_df.iterrows():\n",
    "        ori_path = os.path.join(path,row['fname'])\n",
    "        new_path = os.path.join(tmp_path,row['fname'])\n",
    "        original_image = Image.open(ori_path)\n",
    "        fit_and_resized_image = ImageOps.fit(original_image, size, Image.ANTIALIAS)\n",
    "        fit_and_resized_image.save(new_path)"
   ]
  },
  {
   "cell_type": "code",
   "execution_count": 48,
   "metadata": {},
   "outputs": [],
   "source": [
    "# cars_train_path = './Cars/cars_train'\n",
    "\n",
    "# original_image = Image.open(os.path.join(cars_train_path,car_class['fname'][0]))\n",
    "# original_image\n",
    "\n",
    "# # original_image = Image.open(\"./bmw10_ims/1.jpg\")\n",
    "# # # size = (512, 512)\n",
    "# size = (300, 300)\n",
    "# fit_and_resized_image = ImageOps.fit(original_image, size, Image.ANTIALIAS)\n",
    "\n",
    "# # display(original_image)\n",
    "\n",
    "# # fit_and_resized_image\n",
    "# fit_and_resized_image.size"
   ]
  },
  {
   "cell_type": "code",
   "execution_count": 17,
   "metadata": {},
   "outputs": [],
   "source": [
    "path = '.\\\\bmw10_ims'\n",
    "smallPath = '.\\\\BMWImages'\n",
    "labels_list = listdir(path)\n",
    "\n",
    "size = (200, 200)\n",
    "\n",
    "for labelName in labels_list:\n",
    "    tmp_path = join(smallPath,labelName)\n",
    "    if(not os.path.exists( tmp_path)):\n",
    "        os.mkdir(tmp_path)\n",
    "\n",
    "    ori_path = join(path,labelName)\n",
    "    new_path = join(smallPath,labelName)\n",
    "    \n",
    "    image_names = listdir(ori_path)\n",
    "    image_num =0\n",
    "    randonIndex =  np.random.choice(len(image_names),20, replace=False)\n",
    "    for ind in randonIndex:\n",
    "        image_num +=1\n",
    "        \n",
    "        original_image = Image.open(join(ori_path,image_names[ind]))\n",
    "        fit_and_resized_image = ImageOps.fit(original_image, size, Image.ANTIALIAS)\n",
    "        fit_and_resized_image.save(join(new_path,image_names[ind]))\n",
    "\n",
    "#         shutil.copyfile(join(ori_path,image_names[ind]),join(new_path,image_names[ind]))\n",
    "#         if(image_num==10):\n",
    "#             break"
   ]
  },
  {
   "cell_type": "markdown",
   "metadata": {},
   "source": [
    "# ========================================================"
   ]
  },
  {
   "cell_type": "markdown",
   "metadata": {},
   "source": [
    "### Data preprocessing"
   ]
  },
  {
   "cell_type": "code",
   "execution_count": 49,
   "metadata": {},
   "outputs": [],
   "source": [
    "from sklearn.model_selection import train_test_split"
   ]
  },
  {
   "cell_type": "code",
   "execution_count": 56,
   "metadata": {},
   "outputs": [
    {
     "ename": "NameError",
     "evalue": "name 'load_img' is not defined",
     "output_type": "error",
     "traceback": [
      "\u001b[1;31m---------------------------------------------------------------------------\u001b[0m",
      "\u001b[1;31mNameError\u001b[0m                                 Traceback (most recent call last)",
      "\u001b[1;32m<ipython-input-56-2b681e43de98>\u001b[0m in \u001b[0;36m<module>\u001b[1;34m\u001b[0m\n\u001b[0;32m     12\u001b[0m     \u001b[1;32mfor\u001b[0m \u001b[0maimage\u001b[0m \u001b[1;32min\u001b[0m \u001b[0mimage_names\u001b[0m\u001b[1;33m:\u001b[0m\u001b[1;33m\u001b[0m\u001b[1;33m\u001b[0m\u001b[0m\n\u001b[0;32m     13\u001b[0m         \u001b[0mimage_path\u001b[0m \u001b[1;33m=\u001b[0m \u001b[0mos\u001b[0m\u001b[1;33m.\u001b[0m\u001b[0mpath\u001b[0m\u001b[1;33m.\u001b[0m\u001b[0mjoin\u001b[0m\u001b[1;33m(\u001b[0m\u001b[0mfile_path\u001b[0m\u001b[1;33m,\u001b[0m\u001b[0maimage\u001b[0m\u001b[1;33m)\u001b[0m\u001b[1;33m\u001b[0m\u001b[1;33m\u001b[0m\u001b[0m\n\u001b[1;32m---> 14\u001b[1;33m         \u001b[0mtrain_image\u001b[0m \u001b[1;33m=\u001b[0m \u001b[0mload_img\u001b[0m\u001b[1;33m(\u001b[0m\u001b[0mimage_path\u001b[0m\u001b[1;33m)\u001b[0m  \u001b[1;31m# RGB Image\u001b[0m\u001b[1;33m\u001b[0m\u001b[1;33m\u001b[0m\u001b[0m\n\u001b[0m\u001b[0;32m     15\u001b[0m \u001b[1;33m\u001b[0m\u001b[0m\n\u001b[0;32m     16\u001b[0m         \u001b[0mtrain_image\u001b[0m \u001b[1;33m=\u001b[0m \u001b[0mimg_to_array\u001b[0m\u001b[1;33m(\u001b[0m\u001b[0mtrain_image\u001b[0m\u001b[1;33m)\u001b[0m  \u001b[1;31m# this is a Numpy array with shape (3, 150, 150)\u001b[0m\u001b[1;33m\u001b[0m\u001b[1;33m\u001b[0m\u001b[0m\n",
      "\u001b[1;31mNameError\u001b[0m: name 'load_img' is not defined"
     ]
    }
   ],
   "source": [
    "X_car=[]\n",
    "Y_car=[]\n",
    "\n",
    "# path_train = '.\\\\LatestData\\Training'\n",
    "# smallPath = '.\\\\BMWImages'\n",
    "smallPath = '.\\\\Cars\\\\BMWImages_30'\n",
    "labels = os.listdir(smallPath)\n",
    "\n",
    "for labelName in labels:\n",
    "    file_path = os.path.join(smallPath,labelName)\n",
    "    image_names = os.listdir(file_path)\n",
    "    for aimage in image_names:\n",
    "        image_path = os.path.join(file_path,aimage)\n",
    "        train_image = load_img(image_path)  # RGB Image\n",
    "\n",
    "        train_image = img_to_array(train_image)  # this is a Numpy array with shape (3, 150, 150)\n",
    "        X_car.append(train_image)\n",
    "        Y_car.append(labelName)\n",
    "\n",
    "# integer encode\n",
    "label_encoder = LabelEncoder()\n",
    "integer_encoded = label_encoder.fit_transform(Y_car)\n",
    "# binary encode\n",
    "onehot_encoder = OneHotEncoder(sparse=False,categories='auto')\n",
    "integer_encoded = integer_encoded.reshape(len(integer_encoded), 1)\n",
    "Y_car = onehot_encoder.fit_transform(integer_encoded)\n",
    "\n",
    "num_class = len(labels)\n",
    "input_shape = X_car[0].shape\n",
    "\n",
    "X_car = np.asarray(X_car)\n",
    "\n",
    "X_car = X_train.astype('float32')\n",
    "X_car /= 255\n",
    "\n",
    "X_train, X_test, Y_train, Y_test = train_test_split(X_car, Y_car, test_size=0.2,shuffle = True,random_state=34)\n",
    "\n",
    "\n"
   ]
  },
  {
   "cell_type": "code",
   "execution_count": null,
   "metadata": {},
   "outputs": [],
   "source": [
    "X_train=[]\n",
    "Y_train=[]\n",
    "\n",
    "# path_train = '.\\\\LatestData\\Training'\n",
    "# smallPath = '.\\\\BMWImages'\n",
    "smallPath = '.\\\\Cars\\\\BMWImages_30'\n",
    "labels = listdir(path_train)\n",
    "\n",
    "for labelName in labels:\n",
    "    file_path = join(path_train,labelName)\n",
    "    image_names = listdir(file_path)\n",
    "    for aimage in image_names:\n",
    "        image_path = join(file_path,aimage)\n",
    "        train_image = load_img(image_path)  # RGB Image\n",
    "\n",
    "        train_image = img_to_array(train_image)  # this is a Numpy array with shape (3, 150, 150)\n",
    "        X_train.append(train_image)\n",
    "        Y_train.append(labelName)\n",
    "\n",
    "X_test=[]\n",
    "Y_test=[]\n",
    "path_test = '.\\\\LatestData\\Test'\n",
    "labels = listdir(path_train)\n",
    "for labelName in labels:\n",
    "    file_path = join(path_test,labelName)\n",
    "    image_names = listdir(file_path)\n",
    "    for aimage in image_names:\n",
    "        image_path = join(file_path,aimage)\n",
    "        train_image = load_img(image_path)  # RGB Image\n",
    "\n",
    "        train_image = img_to_array(train_image)  # this is a Numpy array with shape (3, 150, 150)\n",
    "        X_test.append(train_image)\n",
    "        Y_test.append(labelName)        \n",
    "\n",
    "# integer encode\n",
    "label_encoder = LabelEncoder()\n",
    "integer_encoded = label_encoder.fit_transform(Y_train)\n",
    "# binary encode\n",
    "onehot_encoder = OneHotEncoder(sparse=False,categories='auto')\n",
    "integer_encoded = integer_encoded.reshape(len(integer_encoded), 1)\n",
    "Y_train = onehot_encoder.fit_transform(integer_encoded)\n",
    "\n",
    "integer_encoded = label_encoder.fit_transform(Y_test)\n",
    "Y_test = onehot_encoder.fit_transform(integer_encoded)\n",
    "\n",
    "\n",
    "num_class = len(labels)\n",
    "input_shape = X_train[0].shape\n",
    "\n",
    "X_train = np.asarray(X_train)\n",
    "X_test = np.asarray(X_test)\n",
    "\n",
    "X_train = X_train.astype('float32')\n",
    "X_test = X_test.astype('float32')\n",
    "X_train /= 255\n",
    "X_test /= 255"
   ]
  }
 ],
 "metadata": {
  "kernelspec": {
   "display_name": "Python 3",
   "language": "python",
   "name": "python3"
  },
  "language_info": {
   "codemirror_mode": {
    "name": "ipython",
    "version": 3
   },
   "file_extension": ".py",
   "mimetype": "text/x-python",
   "name": "python",
   "nbconvert_exporter": "python",
   "pygments_lexer": "ipython3",
   "version": "3.7.5"
  }
 },
 "nbformat": 4,
 "nbformat_minor": 4
}
