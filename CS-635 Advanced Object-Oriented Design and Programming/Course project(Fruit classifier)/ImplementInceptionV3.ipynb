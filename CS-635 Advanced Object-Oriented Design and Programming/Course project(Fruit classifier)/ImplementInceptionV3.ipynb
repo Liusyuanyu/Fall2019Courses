{
 "cells": [
  {
   "cell_type": "markdown",
   "metadata": {},
   "source": [
    "## Import the packages and function"
   ]
  },
  {
   "cell_type": "code",
   "execution_count": 1,
   "metadata": {},
   "outputs": [
    {
     "name": "stderr",
     "output_type": "stream",
     "text": [
      "Using TensorFlow backend.\n"
     ]
    }
   ],
   "source": [
    "from keras.applications.inception_v3 import InceptionV3\n",
    "from keras.models import Model\n",
    "from keras.layers import Dense, GlobalAveragePooling2D, Input, Dropout\n",
    "from os import listdir\n",
    "from os.path import isfile, join\n",
    "from keras.preprocessing.image import img_to_array, load_img\n",
    "from sklearn.model_selection import train_test_split\n",
    "from sklearn.preprocessing import OneHotEncoder, LabelEncoder\n",
    "import numpy as np\n",
    "import keras.backend as k\n",
    "from keras.optimizers import RMSprop \n",
    "\n",
    "import matplotlib.pyplot as plt\n",
    "\n",
    "from sklearn.utils import shuffle"
   ]
  },
  {
   "cell_type": "markdown",
   "metadata": {},
   "source": [
    "## Load Data (Old)"
   ]
  },
  {
   "cell_type": "code",
   "execution_count": 29,
   "metadata": {},
   "outputs": [],
   "source": [
    "del fruit_x\n",
    "del fruit_y"
   ]
  },
  {
   "cell_type": "code",
   "execution_count": 30,
   "metadata": {},
   "outputs": [],
   "source": [
    "fruit_x=[]\n",
    "fruit_y=[]\n",
    "\n",
    "# labels =['Apple', 'Avocado','Cherry','Kiwi','Kumquats', 'Lemon']\n",
    "\n",
    "# path = '.\\\\Training'\n",
    "# path = '.\\\\SamllTrain'\n",
    "# path = '.\\\\SamllTrain_50'\n",
    "path = '.\\\\LessImageTrain'\n",
    "labels = listdir(path)\n",
    "\n",
    "for labelName in labels:\n",
    "    file_path = join(path,labelName)\n",
    "    image_names = listdir(file_path)\n",
    "    for aimage in image_names:\n",
    "        image_path = join(file_path,aimage)\n",
    "#         if(os.path.exists(image_path)):\n",
    "#         train_image = load_img(image_path,color_mode = \"grayscale\")  # GrayScale\n",
    "        train_image = load_img(image_path)  # RGB Image\n",
    "\n",
    "        train_image = img_to_array(train_image)  # this is a Numpy array with shape (3, 150, 150)\n",
    "        fruit_x.append(train_image)\n",
    "        fruit_y.append(labelName)\n",
    "        \n",
    "fruit_x_ori= fruit_x.copy()\n",
    "fruit_y_ori= fruit_y.copy()"
   ]
  },
  {
   "cell_type": "code",
   "execution_count": 31,
   "metadata": {},
   "outputs": [
    {
     "data": {
      "text/plain": [
       "4000"
      ]
     },
     "execution_count": 31,
     "metadata": {},
     "output_type": "execute_result"
    }
   ],
   "source": [
    "len(fruit_x)"
   ]
  },
  {
   "cell_type": "markdown",
   "metadata": {},
   "source": [
    "### Data preprocessing"
   ]
  },
  {
   "cell_type": "code",
   "execution_count": 33,
   "metadata": {},
   "outputs": [],
   "source": [
    "if 'fruit_x' in locals():\n",
    "    del fruit_x\n",
    "if 'fruit_y' in locals():\n",
    "    del fruit_y\n",
    "    \n",
    "fruit_x= fruit_x_ori\n",
    "fruit_y= fruit_y_ori\n",
    "\n",
    "fruit_x = np.asarray(fruit_x)/255\n",
    "\n",
    "# integer encode\n",
    "label_encoder = LabelEncoder()\n",
    "integer_encoded = label_encoder.fit_transform(fruit_y)\n",
    "# binary encode\n",
    "onehot_encoder = OneHotEncoder(sparse=False,categories='auto')\n",
    "integer_encoded = integer_encoded.reshape(len(integer_encoded), 1)\n",
    "fruit_y = onehot_encoder.fit_transform(integer_encoded)\n",
    "\n",
    "num_class = len(labels)\n",
    "input_shape = fruit_x[0].shape\n",
    "\n",
    "# X_train, X_test, Y_train, Y_test = train_test_split(fruit_x, fruit_y, test_size=0.2,shuffle = True,random_state=1)\n",
    "X_train, X_test, Y_train, Y_test = train_test_split(fruit_x, fruit_y, test_size=0.2,shuffle = True)\n",
    "# X_train = np.asarray(X_train)\n",
    "# X_test = np.asarray(X_test)\n",
    "\n",
    "# X_train = X_train.astype('float32')\n",
    "# X_test = X_test.astype('float32')\n",
    "# X_train /= 255\n",
    "# X_test /= 255"
   ]
  },
  {
   "cell_type": "code",
   "execution_count": 35,
   "metadata": {},
   "outputs": [
    {
     "data": {
      "text/plain": [
       "3200"
      ]
     },
     "execution_count": 35,
     "metadata": {},
     "output_type": "execute_result"
    }
   ],
   "source": [
    "# input_shape\n",
    "len(X_train)\n",
    "# X_train"
   ]
  },
  {
   "cell_type": "code",
   "execution_count": 40,
   "metadata": {},
   "outputs": [],
   "source": [
    "# X_train, X_test, Y_train, Y_test = train_test_split(fruit_x, fruit_y, test_size=0.2,shuffle = True,random_state=1)\n",
    "X_train, X_test, Y_train, Y_test = train_test_split(fruit_x, fruit_y, test_size=0.3,shuffle = True)"
   ]
  },
  {
   "cell_type": "code",
   "execution_count": 15,
   "metadata": {
    "jupyter": {
     "source_hidden": true
    }
   },
   "outputs": [
    {
     "data": {
      "text/plain": [
       "810"
      ]
     },
     "execution_count": 15,
     "metadata": {},
     "output_type": "execute_result"
    }
   ],
   "source": [
    "X_train=[]\n",
    "Y_train=[]\n",
    "\n",
    "path_train = '.\\\\LessImageTrain'\n",
    "labels = listdir(path_train)\n",
    "\n",
    "for labelName in labels:\n",
    "    file_path = join(path_train,labelName)\n",
    "    image_names = listdir(file_path)\n",
    "    for aimage in image_names:\n",
    "        image_path = join(file_path,aimage)\n",
    "        train_image = load_img(image_path)  # RGB Image\n",
    "\n",
    "        train_image = img_to_array(train_image)  # this is a Numpy array with shape (3, 150, 150)\n",
    "        X_train.append(train_image)\n",
    "        Y_train.append(labelName)\n",
    "\n",
    "X_test=[]\n",
    "Y_test=[]\n",
    "path_test = '.\\\\LessImageTest'\n",
    "labels = listdir(path_train)\n",
    "for labelName in labels:\n",
    "    file_path = join(path_test,labelName)\n",
    "    image_names = listdir(file_path)\n",
    "    for aimage in image_names:\n",
    "        image_path = join(file_path,aimage)\n",
    "        train_image = load_img(image_path)  # RGB Image\n",
    "\n",
    "        train_image = img_to_array(train_image)  # this is a Numpy array with shape (3, 150, 150)\n",
    "        X_test.append(train_image)\n",
    "        Y_test.append(labelName)        \n",
    "\n",
    "# integer encode\n",
    "label_encoder = LabelEncoder()\n",
    "integer_encoded = label_encoder.fit_transform(Y_train)\n",
    "# binary encode\n",
    "onehot_encoder = OneHotEncoder(sparse=False,categories='auto')\n",
    "integer_encoded = integer_encoded.reshape(len(integer_encoded), 1)\n",
    "Y_train = onehot_encoder.fit_transform(integer_encoded)\n",
    "\n",
    "integer_encoded = label_encoder.fit_transform(Y_test)\n",
    "integer_encoded = integer_encoded.reshape(len(integer_encoded), 1)\n",
    "Y_test = onehot_encoder.fit_transform(integer_encoded)\n",
    "\n",
    "\n",
    "num_class = len(labels)\n",
    "input_shape = X_train[0].shape\n",
    "\n",
    "X_train = np.asarray(X_train)\n",
    "X_test = np.asarray(X_test)\n",
    "\n",
    "X_train = X_train.astype('float32')\n",
    "X_test = X_test.astype('float32')\n",
    "X_train /= 255\n",
    "X_test /= 255\n",
    "\n",
    "len(X_test)"
   ]
  },
  {
   "cell_type": "markdown",
   "metadata": {},
   "source": [
    "### Build the InceptionV3 Model(Keras) Function"
   ]
  },
  {
   "cell_type": "code",
   "execution_count": 5,
   "metadata": {},
   "outputs": [],
   "source": [
    "# create the base pre-trained model\n",
    "def build_model(nb_classes, inputs_shape):\n",
    "    k.clear_session()\n",
    "    base_model = InceptionV3(weights='imagenet', include_top=False,input_shape=inputs_shape)\n",
    "    \n",
    "    # add a global spatial average pooling layer\n",
    "    x = base_model.output\n",
    "    x = GlobalAveragePooling2D()(x)\n",
    "    x = Dense(1024, activation='relu')(x)\n",
    "    predictions = Dense(nb_classes, activation='softmax')(x)\n",
    "#     x = Dropout(0.5)(x)\n",
    "\n",
    "    # first: train only the top layers (which were randomly initialized)\n",
    "    # i.e. freeze all convolutional InceptionV3 layers\n",
    "    for layer in base_model.layers[:249]:\n",
    "        layer.trainable = False\n",
    "    for layer in base_model.layers[249:]:\n",
    "        layer.trainable = True\n",
    "    count = 0\n",
    "    for layer in base_model.layers:\n",
    "        if ('batch_normalization' in layer.name):\n",
    "            count +=1\n",
    "            layer.trainable =True\n",
    "            if(count>=19):\n",
    "                break\n",
    "        \n",
    "    # this is the model we will train\n",
    "    model = Model(inputs=base_model.input, outputs=predictions)\n",
    "    \n",
    "    # compile the model (should be done *after* setting layers to non-trainable)\n",
    "    print (\"starting model compile\")\n",
    "    compile(model)\n",
    "    print (\"model compile done\")\n",
    "    return model\n",
    "\n",
    "def compile(model):\n",
    "    model.compile(optimizer=RMSprop(lr=0.001), loss='categorical_crossentropy', metrics=[\"accuracy\"])    "
   ]
  },
  {
   "cell_type": "markdown",
   "metadata": {},
   "source": [
    "### Train and evaluate"
   ]
  },
  {
   "cell_type": "code",
   "execution_count": 6,
   "metadata": {},
   "outputs": [
    {
     "name": "stdout",
     "output_type": "stream",
     "text": [
      "starting model compile\n",
      "model compile done\n"
     ]
    }
   ],
   "source": [
    "model = build_model(num_class, input_shape)\n",
    "# model = build_model(81, [100,100,3])\n",
    "# # model.summary()\n",
    "# print(\"\\n===============================\\n The trainable layers:\")\n",
    "# for layer in model.trainable_weights:\n",
    "#     print(layer.name)"
   ]
  },
  {
   "cell_type": "code",
   "execution_count": 7,
   "metadata": {
    "scrolled": true
   },
   "outputs": [
    {
     "data": {
      "text/plain": [
       "59"
      ]
     },
     "execution_count": 7,
     "metadata": {},
     "output_type": "execute_result"
    }
   ],
   "source": [
    "len(model.trainable_weights)"
   ]
  },
  {
   "cell_type": "code",
   "execution_count": 9,
   "metadata": {
    "scrolled": true
   },
   "outputs": [
    {
     "name": "stdout",
     "output_type": "stream",
     "text": [
      "Train on 5083 samples, validate on 1017 samples\n",
      "Epoch 1/5\n",
      "5083/5083 [==============================] - 364s 72ms/step - loss: 0.0317 - accuracy: 0.9982 - val_loss: 3.9498 - val_accuracy: 0.6067\n",
      "Epoch 2/5\n",
      "5083/5083 [==============================] - 364s 72ms/step - loss: 0.0020 - accuracy: 0.9994 - val_loss: 3.1317 - val_accuracy: 0.6431\n",
      "Epoch 3/5\n",
      "5083/5083 [==============================] - 359s 71ms/step - loss: 3.6843e-06 - accuracy: 1.0000 - val_loss: 3.5866 - val_accuracy: 0.6382\n",
      "Epoch 4/5\n",
      "5083/5083 [==============================] - 360s 71ms/step - loss: 0.0108 - accuracy: 0.9986 - val_loss: 2.3622 - val_accuracy: 0.6804\n",
      "Epoch 5/5\n",
      "5083/5083 [==============================] - 360s 71ms/step - loss: 0.0776 - accuracy: 0.9990 - val_loss: 2.5933 - val_accuracy: 0.7522\n",
      "Test loss: 2.5932667785220676\n",
      "Test accuracy: 0.752212405204773\n"
     ]
    }
   ],
   "source": [
    "# epochs = 30\n",
    "epochs = 5\n",
    "batch_size = 100\n",
    "\n",
    "history=model.fit(X_train, Y_train,\n",
    "          batch_size=batch_size,\n",
    "          epochs=epochs,\n",
    "          verbose=1,\n",
    "          validation_data=(X_test, Y_test))\n",
    "score = model.evaluate(X_test, Y_test, verbose=0)\n",
    "print('Test loss:', score[0])\n",
    "print('Test accuracy:', score[1])"
   ]
  },
  {
   "cell_type": "code",
   "execution_count": 10,
   "metadata": {},
   "outputs": [
    {
     "name": "stdout",
     "output_type": "stream",
     "text": [
      "dict_keys(['val_loss', 'val_accuracy', 'loss', 'accuracy'])\n"
     ]
    },
    {
     "data": {
      "text/plain": [
       "<matplotlib.legend.Legend at 0x211644bd088>"
      ]
     },
     "execution_count": 10,
     "metadata": {},
     "output_type": "execute_result"
    },
    {
     "data": {
      "image/png": "[encoded data removed]",
      "text/plain": [
       "<Figure size 432x288 with 1 Axes>"
      ]
     },
     "metadata": {
      "needs_background": "light"
     },
     "output_type": "display_data"
    }
   ],
   "source": [
    "print(history.history.keys())\n",
    "\n",
    "plt.plot(history.history['accuracy'])\n",
    "plt.plot(history.history['val_accuracy'])\n",
    "plt.title('model accuracy')\n",
    "plt.ylabel('accuracy')\n",
    "plt.xlabel('epoch')\n",
    "plt.legend(['train', 'test'], loc='upper left')\n",
    "\n",
    "# plt.plot(history.history['loss'])\n",
    "# plt.title('Loss')\n",
    "# plt.ylabel('Loss')\n",
    "# plt.xlabel('epoch')\n"
   ]
  },
  {
   "cell_type": "code",
   "execution_count": 11,
   "metadata": {},
   "outputs": [],
   "source": [
    "# # save(model, 'model_100images')\n",
    "# # model.save('model_Allimages.h5')\n",
    "# model.save('model_300images.h5')\n",
    "# model.save('./ModelBox/model_SamllTrain.h5')\n",
    "# model.save('./ModelBox/Fruit_3Classes.h5')\n",
    "model.save('./ModelBox/Fruit_10Classes.h5')"
   ]
  },
  {
   "cell_type": "code",
   "execution_count": 13,
   "metadata": {},
   "outputs": [
    {
     "data": {
      "text/plain": [
       "[2.735868464814568, 0.7509344816207886]"
      ]
     },
     "execution_count": 13,
     "metadata": {},
     "output_type": "execute_result"
    }
   ],
   "source": [
    "# from keras.preprocessing.image import array_to_img\n",
    "\n",
    "# X_train[0]*=255\n",
    "# X_train[0]\n",
    "# array_to_img(X_train[100]*255)\n",
    "# len(X_train)\n",
    "model.evaluate(X_train, Y_train, verbose=0)\n"
   ]
  },
  {
   "cell_type": "markdown",
   "metadata": {},
   "source": [
    "#### BackUp codes"
   ]
  },
  {
   "cell_type": "code",
   "execution_count": 45,
   "metadata": {},
   "outputs": [
    {
     "data": {
      "text/plain": [
       "810"
      ]
     },
     "execution_count": 45,
     "metadata": {},
     "output_type": "execute_result"
    }
   ],
   "source": [
    "X_test=[]\n",
    "Y_test=[]\n",
    "path_test = '.\\\\LessImageTest'\n",
    "labels = listdir(path_train)\n",
    "for labelName in labels:\n",
    "    file_path = join(path_test,labelName)\n",
    "    image_names = listdir(file_path)\n",
    "    for aimage in image_names:\n",
    "        image_path = join(file_path,aimage)\n",
    "        train_image = load_img(image_path)  # RGB Image\n",
    "\n",
    "        train_image = img_to_array(train_image)  # this is a Numpy array with shape (3, 150, 150)\n",
    "        X_test.append(train_image)\n",
    "        Y_test.append(labelName)        \n",
    "\n",
    "integer_encoded = label_encoder.fit_transform(Y_test)\n",
    "integer_encoded = integer_encoded.reshape(len(integer_encoded), 1)\n",
    "Y_test = onehot_encoder.fit_transform(integer_encoded)\n",
    "\n",
    "X_test = np.asarray(X_test)\n",
    "X_test = X_test.astype('float32')\n",
    "X_test /= 255\n",
    "\n",
    "len(X_test)"
   ]
  },
  {
   "cell_type": "code",
   "execution_count": null,
   "metadata": {},
   "outputs": [],
   "source": [
    "# base_model = InceptionV3(weights='imagenet', include_top=False)\n",
    "\n",
    "# # add a global spatial average pooling layer\n",
    "# x = base_model.output\n",
    "# x = GlobalAveragePooling2D()(x)\n",
    "# # let's add a fully-connected layer\n",
    "# x = Dense(1024, activation='relu')(x)\n",
    "# # and a logistic layer -- let's say we have 200 classes\n",
    "# predictions = Dense(6, activation='softmax')(x)\n",
    "\n",
    "# # this is the model we will train\n",
    "# model = Model(inputs=base_model.input, outputs=predictions)\n",
    "\n",
    "# # first: train only the top layers (which were randomly initialized)\n",
    "# # i.e. freeze all convolutional InceptionV3 layers\n",
    "# for layer in base_model.layers:\n",
    "#     layer.trainable = False\n",
    "\n",
    "# # compile the model (should be done *after* setting layers to non-trainable)\n",
    "# model.compile(optimizer='rmsprop', loss='categorical_crossentropy')\n",
    "\n",
    "# # train the model on the new data for a few epochs\n",
    "# model.fit_generator(...)\n",
    "\n",
    "# # at this point, the top layers are well trained and we can start fine-tuning\n",
    "# # convolutional layers from inception V3. We will freeze the bottom N layers\n",
    "# # and train the remaining top layers.\n",
    "\n",
    "# # let's visualize layer names and layer indices to see how many layers\n",
    "# # we should freeze:\n",
    "# for i, layer in enumerate(base_model.layers):\n",
    "#    print(i, layer.name)\n",
    "\n",
    "# # we chose to train the top 2 inception blocks, i.e. we will freeze\n",
    "# # the first 249 layers and unfreeze the rest:\n",
    "# for layer in model.layers[:249]:\n",
    "#    layer.trainable = False\n",
    "# for layer in model.layers[249:]:\n",
    "#    layer.trainable = True\n",
    "\n",
    "# # we need to recompile the model for these modifications to take effect\n",
    "# # we use SGD with a low learning rate\n",
    "# from keras.optimizers import SGD\n",
    "# model.compile(optimizer=SGD(lr=0.0001, momentum=0.9), loss='categorical_crossentropy')\n",
    "\n",
    "# # we train our model again (this time fine-tuning the top 2 inception blocks\n",
    "# # alongside the top Dense layers\n",
    "# model.fit_generator(...)"
   ]
  },
  {
   "cell_type": "markdown",
   "metadata": {},
   "source": [
    "### Extract Images from original data"
   ]
  },
  {
   "cell_type": "code",
   "execution_count": null,
   "metadata": {},
   "outputs": [],
   "source": [
    "import os\n",
    "import shutil\n",
    "\n",
    "path = '.\\\\Training'\n",
    "smallPath = '.\\\\LessImageTrain'\n",
    "labels_list = listdir(path)\n",
    "\n",
    "for labelName in labels_list:\n",
    "    tmp_path = join(smallPath,labelName)\n",
    "    if(not os.path.exists( tmp_path)):\n",
    "        os.mkdir(tmp_path)\n",
    "\n",
    "    ori_path = join(path,labelName)\n",
    "    new_path = join(smallPath,labelName)\n",
    "    \n",
    "    image_names = listdir(ori_path)\n",
    "    image_num =0\n",
    "    \n",
    "    randonIndex =  np.random.choice(len(image_names),200, replace=False)\n",
    "    for ind in randonIndex:\n",
    "        image_num +=1\n",
    "        shutil.copyfile(join(ori_path,image_names[ind]),join(new_path,image_names[ind]))\n",
    "    \n",
    "    \n",
    "#     for ind in range(0,len(image_names),5):\n",
    "#         image_num +=1\n",
    "#         shutil.copyfile(join(ori_path,image_names[ind]),join(new_path,image_names[ind]))\n",
    "#         if(image_num==100):\n",
    "#             break\n",
    "\n",
    "# labels_list"
   ]
  },
  {
   "cell_type": "markdown",
   "metadata": {},
   "source": [
    "# Read partial categories"
   ]
  },
  {
   "cell_type": "code",
   "execution_count": 12,
   "metadata": {},
   "outputs": [],
   "source": [
    "if 'X_train' in locals():\n",
    "    del X_train\n",
    "if 'Y_train' in locals():\n",
    "    del Y_train\n",
    "if 'X_test' in locals():\n",
    "    del X_test\n",
    "if 'Y_test' in locals():\n",
    "    del Y_test\n",
    "if 'model' in locals():\n",
    "    del model\n"
   ]
  },
  {
   "cell_type": "code",
   "execution_count": 2,
   "metadata": {},
   "outputs": [],
   "source": [
    "X_train=[]\n",
    "Y_train=[]\n",
    "\n",
    "# path_train = '.\\\\LatestData\\Training'\n",
    "path_train = '.\\\\Fruits\\\\Training'\n",
    "labels = listdir(path_train)\n",
    "\n",
    "num_class = 10\n",
    "\n",
    "randonIndex =  np.random.choice(len(labels),num_class, replace=False)\n",
    "\n",
    "for index in randonIndex:\n",
    "    file_path = join(path_train,labels[index])\n",
    "    image_names = listdir(file_path)\n",
    "    for aimage in image_names:\n",
    "        image_path = join(file_path,aimage)\n",
    "        train_image = load_img(image_path)  # RGB Image\n",
    "\n",
    "        train_image = img_to_array(train_image)  # this is a Numpy array with shape (3, 150, 150)\n",
    "        X_train.append(train_image)\n",
    "        Y_train.append(labels[index])\n",
    "\n",
    "# integer encode\n",
    "label_encoder = LabelEncoder()\n",
    "integer_encoded = label_encoder.fit_transform(Y_train)\n",
    "# binary encode\n",
    "onehot_encoder = OneHotEncoder(sparse=False,categories='auto')\n",
    "integer_encoded = integer_encoded.reshape(len(integer_encoded), 1)\n",
    "Y_train = onehot_encoder.fit_transform(integer_encoded)\n",
    "\n",
    "\n",
    "# num_class = len(labels)\n",
    "input_shape = X_train[0].shape\n",
    "\n",
    "X_train = np.asarray(X_train)\n",
    "\n",
    "X_train = X_train.astype('float32')\n",
    "X_train /= 255\n",
    "\n",
    "_, X_test, _, Y_test = train_test_split(X_train, Y_train, test_size=0.2,shuffle = True)\n",
    "\n",
    "X_train,Y_train=shuffle(X_train,Y_train)"
   ]
  },
  {
   "cell_type": "code",
   "execution_count": 12,
   "metadata": {},
   "outputs": [
    {
     "data": {
      "text/plain": [
       "array([71, 14,  3, 23, 25, 73, 62, 41, 16, 11])"
      ]
     },
     "execution_count": 12,
     "metadata": {},
     "output_type": "execute_result"
    }
   ],
   "source": [
    "randonIndex"
   ]
  },
  {
   "cell_type": "code",
   "execution_count": 3,
   "metadata": {},
   "outputs": [],
   "source": [
    "# len(X_train)\n",
    "X_train,Y_train=shuffle(X_train,Y_train)"
   ]
  }
 ],
 "metadata": {
  "kernelspec": {
   "display_name": "Python 3",
   "language": "python",
   "name": "python3"
  },
  "language_info": {
   "codemirror_mode": {
    "name": "ipython",
    "version": 3
   },
   "file_extension": ".py",
   "mimetype": "text/x-python",
   "name": "python",
   "nbconvert_exporter": "python",
   "pygments_lexer": "ipython3",
   "version": "3.7.5"
  }
 },
 "nbformat": 4,
 "nbformat_minor": 4
}
