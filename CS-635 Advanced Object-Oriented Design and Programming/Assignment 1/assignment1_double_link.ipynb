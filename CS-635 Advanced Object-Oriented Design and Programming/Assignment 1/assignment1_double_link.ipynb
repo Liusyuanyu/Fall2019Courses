{
 "cells": [
  {
   "cell_type": "code",
   "execution_count": 1,
   "metadata": {},
   "outputs": [],
   "source": [
    "# Definition for a node of circular doubly linked queue\n",
    "class queue_node:\n",
    "    def __init__(self, node_value=None):\n",
    "        self.value = node_value\n",
    "        self.next_node = None\n",
    "        self.pre_node = None"
   ]
  },
  {
   "cell_type": "code",
   "execution_count": 31,
   "metadata": {},
   "outputs": [],
   "source": [
    "# # Definition for a circular doubly linked queue\n",
    "# class circular_double_link_queue_old:\n",
    "#     def __init__(self, capacity_of_queue:int):\n",
    "#         if (capacity_of_queue < 2):\n",
    "#             raise ValueError('A capacity of queue must be greater then 1.')\n",
    "#         self.first_node = None\n",
    "#         self.last_node = None\n",
    "#         self.occupied_amount = 0\n",
    "#         self.capacity = 0\n",
    "\n",
    "#         for index in range(capacity_of_queue):\n",
    "#             bottom_node = queue_node()\n",
    "#             if index == 0:\n",
    "#                 bottom_node.next_node = bottom_node\n",
    "#                 bottom_node.pre_node = bottom_node\n",
    "#                 self.first_node = bottom_node\n",
    "#             else:\n",
    "#                 bottom_node.next_node = self.first_node\n",
    "#                 bottom_node.pre_node = self.first_node.pre_node\n",
    "#                 self.first_node.pre_node.next_node = bottom_node\n",
    "#                 self.first_node.pre_node = bottom_node\n",
    "        \n",
    "#         self.capacity = capacity_of_queue\n",
    "#         self.last_node = self.first_node \n",
    "        \n",
    "#     def add_value_at_last(self, new_value):\n",
    "#         if self.occupied_amount == self.capacity:\n",
    "#             raise Exception('It\\'s full.')\n",
    "#         if self.occupied_amount==0:\n",
    "#             self.last_node.value = new_value\n",
    "#         else:\n",
    "#             self.last_node.next_node.value = new_value\n",
    "#             self.last_node = self.last_node.next_node\n",
    "#         self.occupied_amount +=1\n",
    "        \n",
    "#     def get_first_value(self):\n",
    "#         return self.first_node.value\n",
    "    \n",
    "#     def remove_first_value(self):\n",
    "#         if self.occupied_amount == 0:\n",
    "#             raise Exception('It\\'s empty.')\n",
    "        \n",
    "#         self.first_node.value = None\n",
    "#         self.first_node = self.first_node.next_node\n",
    "#         self.occupied_amount -=1"
   ]
  },
  {
   "cell_type": "code",
   "execution_count": 123,
   "metadata": {},
   "outputs": [],
   "source": [
    "import os\n",
    "import psutil\n",
    "import getpass\n",
    "import threading\n",
    "import time\n",
    "\n",
    "class process_object:\n",
    "    def __init__(self):\n",
    "        self.process_name = psutil.Process(os.getpid())\n",
    "        self.process_owner = getpass.getuser()\n",
    "        self.pid = os.getpid()\n",
    "        self.number_of_thread = threading.active_count()\n",
    "        self.cpu_used_percent =\"{0}%\".format(psutil.cpu_percent())\n",
    "        self.cpu_time_used = time.process_time()\n",
    "\n",
    "#         self.process_name = psutil.Process(os.getpid())\n",
    "#         self.process_owner = None\n",
    "#         self.pid = os.getpid()\n",
    "#         self.number_of_thread = None\n",
    "#         self.cpu_used_percent = None\n",
    "#         self.cpu_time_used = None\n",
    "        \n",
    "    \n",
    "# Definition for a circular doubly linked queue\n",
    "class circular_double_link_queue:\n",
    "    def __init__(self, capacity_of_queue:int=10):\n",
    "        if (capacity_of_queue < 2):\n",
    "            raise ValueError('A capacity of queue must be greater then 1.')\n",
    "        self.process = process_object()\n",
    "        self.first_node = None\n",
    "        self.last_node = None\n",
    "        self.occupied_amount = 0\n",
    "        self.capacity = 0\n",
    "        self.increase_queue_capacity(new_capacity = capacity_of_queue)\n",
    "    def increase_queue_capacity(self, new_capacity:int =10):\n",
    "        \n",
    "#         print('Increase the capacity!')\n",
    "        \n",
    "        for index in range(self.capacity, new_capacity, 1):\n",
    "            bottom_node = queue_node()\n",
    "            if index == 0:\n",
    "                bottom_node.next_node = bottom_node\n",
    "                bottom_node.pre_node = bottom_node\n",
    "                self.first_node = bottom_node\n",
    "                self.last_node = self.first_node\n",
    "            else:\n",
    "                bottom_node.next_node = self.first_node\n",
    "                bottom_node.pre_node = self.first_node.pre_node\n",
    "                self.first_node.pre_node.next_node = bottom_node\n",
    "                self.first_node.pre_node = bottom_node\n",
    "        self.capacity = new_capacity\n",
    "    \n",
    "    def add_value_at_last(self, new_value):\n",
    "        if self.occupied_amount == self.capacity:\n",
    "            self.increase_queue_capacity(new_capacity = self.capacity*2)\n",
    "#             raise Exception('It\\'s full.')\n",
    "        if self.occupied_amount==0:\n",
    "            self.last_node.value = new_value\n",
    "            self.first_node= self.last_node\n",
    "        else:\n",
    "            self.last_node.next_node.value = new_value\n",
    "            self.last_node = self.last_node.next_node\n",
    "        self.occupied_amount +=1\n",
    "        \n",
    "    def get_first_value(self):\n",
    "        if self.occupied_amount == 0:\n",
    "            raise Exception('It\\'s empty.')\n",
    "        \n",
    "        first_value = self.first_node.value\n",
    "        self.first_node.value = None\n",
    "        self.first_node = self.first_node.next_node\n",
    "        self.occupied_amount -=1\n",
    "        return first_value"
   ]
  },
  {
   "cell_type": "code",
   "execution_count": 124,
   "metadata": {},
   "outputs": [
    {
     "name": "stdout",
     "output_type": "stream",
     "text": [
      "0\n",
      "1\n",
      "2\n",
      "3\n",
      "=================================================================\n",
      "0\n",
      "1\n",
      "2\n",
      "3\n",
      "4\n",
      "5\n",
      "6\n",
      "7\n",
      "=================================================================\n",
      "=================================================================\n"
     ]
    },
    {
     "data": {
      "text/plain": [
       "7172"
      ]
     },
     "execution_count": 124,
     "metadata": {},
     "output_type": "execute_result"
    }
   ],
   "source": [
    "# queue = circular_double_link_queue(-5)\n",
    "# queue = circular_double_link_queue(1)\n",
    "# capacity = 10\n",
    "capacity = 2\n",
    "queue = circular_double_link_queue(capacity)\n",
    "\n",
    "for index in range(capacity+2):\n",
    "    queue.add_value_at_last(index)\n",
    "\n",
    "for index in range(capacity+2):\n",
    "    print(queue.get_first_value())\n",
    "\n",
    "print('=================================================================')\n",
    "\n",
    "for index in range(capacity*4):\n",
    "#     print(index)\n",
    "    queue.add_value_at_last(index)\n",
    "    \n",
    "for index in range(capacity*4):\n",
    "    print(queue.get_first_value())\n",
    "    \n",
    "print('=================================================================')\n",
    "print('=================================================================')\n",
    "\n",
    "\n",
    "queue.process.pid\n",
    "\n",
    "# for index in range(capacity*3):\n",
    "# #     print(index)\n",
    "#     queue.add_value_at_last(index)\n",
    "    \n",
    "# for index in range(capacity*3):\n",
    "#     print(queue.get_first_value())"
   ]
  },
  {
   "cell_type": "code",
   "execution_count": 89,
   "metadata": {},
   "outputs": [
    {
     "data": {
      "text/plain": [
       "5"
      ]
     },
     "execution_count": 89,
     "metadata": {},
     "output_type": "execute_result"
    }
   ],
   "source": [
    "# p = psutil.Process(os.getpid())\n",
    "# p.name()\n",
    "\n",
    "# print(getpass.getuser())\n",
    "\n",
    "threading.active_count()\n",
    "\n",
    "# threading.current_thread()"
   ]
  },
  {
   "cell_type": "code",
   "execution_count": 122,
   "metadata": {},
   "outputs": [
    {
     "data": {
      "text/plain": [
       "3.1875"
      ]
     },
     "execution_count": 122,
     "metadata": {},
     "output_type": "execute_result"
    }
   ],
   "source": [
    "# import multiprocessing\n",
    "# multiprocessing.cpu_count()\n",
    "time.process_time() "
   ]
  },
  {
   "cell_type": "code",
   "execution_count": 133,
   "metadata": {},
   "outputs": [
    {
     "data": {
      "text/plain": [
       "3.25"
      ]
     },
     "execution_count": 133,
     "metadata": {},
     "output_type": "execute_result"
    }
   ],
   "source": [
    "# queue.process.pid\n",
    "# queue.process.number_of_thread\n",
    "# queue.process.cpu_used_percent\n",
    "queue.process.cpu_time_used\n",
    "\n",
    "# \"{0}%\".format(psutil.cpu_percent())\n",
    "#  self.process_name = psutil.Process(os.getpid())\n",
    "\n",
    "# psutil.cpu_percent()\n",
    "#         self.process_owner = getpass.getuser()\n",
    "#         self.pid = os.getpid()\n",
    "#         self.number_of_thread = threading.current_thread()\n",
    "#         self.cpu_used_percent ={0:.2%}\".format(psutil.cpu_percent)\n",
    "#         self.cpu_time_used = None"
   ]
  }
 ],
 "metadata": {
  "kernelspec": {
   "display_name": "Python 3",
   "language": "python",
   "name": "python3"
  },
  "language_info": {
   "codemirror_mode": {
    "name": "ipython",
    "version": 3
   },
   "file_extension": ".py",
   "mimetype": "text/x-python",
   "name": "python",
   "nbconvert_exporter": "python",
   "pygments_lexer": "ipython3",
   "version": "3.7.1"
  }
 },
 "nbformat": 4,
 "nbformat_minor": 2
}
